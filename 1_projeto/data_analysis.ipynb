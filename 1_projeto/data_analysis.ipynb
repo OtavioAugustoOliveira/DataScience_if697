{
 "cells": [
  {
   "cell_type": "code",
   "execution_count": 87,
   "metadata": {},
   "outputs": [],
   "source": [
    "import numpy as np \n",
    "import pandas as pd\n",
    "import matplotlib.pyplot as plt\n",
    "import pandas_profiling as pp\n",
    "import seaborn as sns\n",
    "import warnings\n",
    "import os\n",
    "from scipy.stats import ttest_ind, f_oneway, kruskal\n",
    "from scipy.stats import chi2_contingency\n",
    "\n",
    "warnings.filterwarnings('ignore')\n",
    "pd.set_option('display.max_columns', None)\n",
    "\n"
   ]
  },
  {
   "cell_type": "code",
   "execution_count": 88,
   "metadata": {},
   "outputs": [],
   "source": [
    "# Leitura do dataset refinado\n",
    "diretorio_acidentes = 'data/refined/acidentes_recife_normalizados.csv'\n",
    "df_acidentes = pd.read_csv(diretorio_acidentes, sep = ',')\n",
    "       "
   ]
  },
  {
   "cell_type": "code",
   "execution_count": 89,
   "metadata": {},
   "outputs": [
    {
     "data": {
      "text/html": [
       "<div>\n",
       "<style scoped>\n",
       "    .dataframe tbody tr th:only-of-type {\n",
       "        vertical-align: middle;\n",
       "    }\n",
       "\n",
       "    .dataframe tbody tr th {\n",
       "        vertical-align: top;\n",
       "    }\n",
       "\n",
       "    .dataframe thead th {\n",
       "        text-align: right;\n",
       "    }\n",
       "</style>\n",
       "<table border=\"1\" class=\"dataframe\">\n",
       "  <thead>\n",
       "    <tr style=\"text-align: right;\">\n",
       "      <th></th>\n",
       "      <th>Unnamed: 0</th>\n",
       "      <th>data</th>\n",
       "      <th>hora</th>\n",
       "      <th>natureza_acidente</th>\n",
       "      <th>situacao</th>\n",
       "      <th>bairro</th>\n",
       "      <th>endereco</th>\n",
       "      <th>complemento</th>\n",
       "      <th>bairro_cruzamento</th>\n",
       "      <th>tipo</th>\n",
       "      <th>descricao</th>\n",
       "      <th>Protocolo</th>\n",
       "      <th>auto_bin</th>\n",
       "      <th>moto_bin</th>\n",
       "      <th>ciclom_bin</th>\n",
       "      <th>ciclista_bin</th>\n",
       "      <th>pedestre_bin</th>\n",
       "      <th>onibus_bin</th>\n",
       "      <th>caminhao_bin</th>\n",
       "      <th>viatura_bin</th>\n",
       "      <th>outros_bin</th>\n",
       "      <th>vitimas_bin</th>\n",
       "      <th>vitimasfatais_bin</th>\n",
       "      <th>dia_da_semana</th>\n",
       "      <th>mes</th>\n",
       "      <th>ano</th>\n",
       "      <th>estacao</th>\n",
       "    </tr>\n",
       "  </thead>\n",
       "  <tbody>\n",
       "    <tr>\n",
       "      <th>0</th>\n",
       "      <td>0</td>\n",
       "      <td>2021-01-01</td>\n",
       "      <td>19:44:00</td>\n",
       "      <td>Não fatal</td>\n",
       "      <td>FINALIZADA</td>\n",
       "      <td>MADALENA</td>\n",
       "      <td>RUA BENFICA</td>\n",
       "      <td>EM FRENTE AO EXTRA NA SAIDA</td>\n",
       "      <td>MADALENA</td>\n",
       "      <td>COLISÃO FRONTAL</td>\n",
       "      <td>NaN</td>\n",
       "      <td>NaN</td>\n",
       "      <td>0.00</td>\n",
       "      <td>0.0</td>\n",
       "      <td>0.0</td>\n",
       "      <td>0.00</td>\n",
       "      <td>0.0</td>\n",
       "      <td>0.0</td>\n",
       "      <td>0.0</td>\n",
       "      <td>0.0</td>\n",
       "      <td>0.0</td>\n",
       "      <td>0.0</td>\n",
       "      <td>0.0</td>\n",
       "      <td>Friday</td>\n",
       "      <td>1.0</td>\n",
       "      <td>2021.0</td>\n",
       "      <td>Verão</td>\n",
       "    </tr>\n",
       "    <tr>\n",
       "      <th>1</th>\n",
       "      <td>1</td>\n",
       "      <td>2021-01-01</td>\n",
       "      <td>23:15:40</td>\n",
       "      <td>Não fatal</td>\n",
       "      <td>FINALIZADA</td>\n",
       "      <td>VÁRZEA</td>\n",
       "      <td>AV CAXANGA</td>\n",
       "      <td>EM FRENTE A UPA DA CAXANGA</td>\n",
       "      <td>VÁRZEA</td>\n",
       "      <td>COLISÃO TRASEIRA</td>\n",
       "      <td>NaN</td>\n",
       "      <td>NaN</td>\n",
       "      <td>0.25</td>\n",
       "      <td>0.0</td>\n",
       "      <td>0.0</td>\n",
       "      <td>0.00</td>\n",
       "      <td>0.0</td>\n",
       "      <td>0.0</td>\n",
       "      <td>0.0</td>\n",
       "      <td>0.0</td>\n",
       "      <td>0.0</td>\n",
       "      <td>0.0</td>\n",
       "      <td>0.0</td>\n",
       "      <td>Friday</td>\n",
       "      <td>1.0</td>\n",
       "      <td>2021.0</td>\n",
       "      <td>Verão</td>\n",
       "    </tr>\n",
       "    <tr>\n",
       "      <th>2</th>\n",
       "      <td>2</td>\n",
       "      <td>2021-01-02</td>\n",
       "      <td>10:54:00</td>\n",
       "      <td>Não fatal</td>\n",
       "      <td>FINALIZADA</td>\n",
       "      <td>VASCO DA GAMA</td>\n",
       "      <td>RUA RESPLENDOR</td>\n",
       "      <td>AO  LADO  DO  COLEGIO ADERBAL  GALVÃO  EM  FRE...</td>\n",
       "      <td>VASCO DA GAMA</td>\n",
       "      <td>COLISÃO COM CICLISTA</td>\n",
       "      <td>NaN</td>\n",
       "      <td>NaN</td>\n",
       "      <td>0.00</td>\n",
       "      <td>0.0</td>\n",
       "      <td>0.0</td>\n",
       "      <td>0.25</td>\n",
       "      <td>0.0</td>\n",
       "      <td>0.0</td>\n",
       "      <td>0.0</td>\n",
       "      <td>0.0</td>\n",
       "      <td>0.0</td>\n",
       "      <td>0.0</td>\n",
       "      <td>0.0</td>\n",
       "      <td>Saturday</td>\n",
       "      <td>1.0</td>\n",
       "      <td>2021.0</td>\n",
       "      <td>Verão</td>\n",
       "    </tr>\n",
       "  </tbody>\n",
       "</table>\n",
       "</div>"
      ],
      "text/plain": [
       "   Unnamed: 0        data      hora natureza_acidente    situacao  \\\n",
       "0           0  2021-01-01  19:44:00         Não fatal  FINALIZADA   \n",
       "1           1  2021-01-01  23:15:40         Não fatal  FINALIZADA   \n",
       "2           2  2021-01-02  10:54:00         Não fatal  FINALIZADA   \n",
       "\n",
       "          bairro        endereco  \\\n",
       "0       MADALENA     RUA BENFICA   \n",
       "1         VÁRZEA      AV CAXANGA   \n",
       "2  VASCO DA GAMA  RUA RESPLENDOR   \n",
       "\n",
       "                                         complemento bairro_cruzamento  \\\n",
       "0                        EM FRENTE AO EXTRA NA SAIDA          MADALENA   \n",
       "1                         EM FRENTE A UPA DA CAXANGA            VÁRZEA   \n",
       "2  AO  LADO  DO  COLEGIO ADERBAL  GALVÃO  EM  FRE...     VASCO DA GAMA   \n",
       "\n",
       "                   tipo  descricao Protocolo  auto_bin  moto_bin  ciclom_bin  \\\n",
       "0       COLISÃO FRONTAL        NaN       NaN      0.00       0.0         0.0   \n",
       "1      COLISÃO TRASEIRA        NaN       NaN      0.25       0.0         0.0   \n",
       "2  COLISÃO COM CICLISTA        NaN       NaN      0.00       0.0         0.0   \n",
       "\n",
       "   ciclista_bin  pedestre_bin  onibus_bin  caminhao_bin  viatura_bin  \\\n",
       "0          0.00           0.0         0.0           0.0          0.0   \n",
       "1          0.00           0.0         0.0           0.0          0.0   \n",
       "2          0.25           0.0         0.0           0.0          0.0   \n",
       "\n",
       "   outros_bin  vitimas_bin  vitimasfatais_bin dia_da_semana  mes     ano  \\\n",
       "0         0.0          0.0                0.0        Friday  1.0  2021.0   \n",
       "1         0.0          0.0                0.0        Friday  1.0  2021.0   \n",
       "2         0.0          0.0                0.0      Saturday  1.0  2021.0   \n",
       "\n",
       "  estacao  \n",
       "0   Verão  \n",
       "1   Verão  \n",
       "2   Verão  "
      ]
     },
     "execution_count": 89,
     "metadata": {},
     "output_type": "execute_result"
    }
   ],
   "source": [
    "df_acidentes.head(3)"
   ]
  },
  {
   "cell_type": "markdown",
   "metadata": {},
   "source": [
    "# Estatísticas descritivas"
   ]
  },
  {
   "cell_type": "code",
   "execution_count": 90,
   "metadata": {},
   "outputs": [
    {
     "data": {
      "image/png": "[encoded data removed]",
      "text/plain": [
       "<Figure size 1000x600 with 1 Axes>"
      ]
     },
     "metadata": {},
     "output_type": "display_data"
    }
   ],
   "source": [
    "plt.figure(figsize=(10, 6))\n",
    "sns.countplot(data=df_acidentes, x='natureza_acidente')\n",
    "plt.title('Frequência da Natureza dos Acidentes')\n",
    "plt.xticks(rotation=45)\n",
    "plt.show()"
   ]
  },
  {
   "cell_type": "code",
   "execution_count": null,
   "metadata": {},
   "outputs": [],
   "source": []
  },
  {
   "cell_type": "code",
   "execution_count": null,
   "metadata": {},
   "outputs": [],
   "source": []
  },
  {
   "cell_type": "code",
   "execution_count": null,
   "metadata": {},
   "outputs": [],
   "source": []
  },
  {
   "cell_type": "markdown",
   "metadata": {},
   "source": [
    "# Testes de Hipótese"
   ]
  },
  {
   "cell_type": "markdown",
   "metadata": {},
   "source": [
    "#### Feriados e Acidentes\n",
    "Hipótese nula (H0): Não existe relação entre feriados e aumentos no índice de acidentes.\n",
    "\n",
    "Hipótese alternativa (H1): Existe relação entre feriados e aumentos no índice de acidentes."
   ]
  },
  {
   "cell_type": "code",
   "execution_count": 94,
   "metadata": {},
   "outputs": [
    {
     "name": "stdout",
     "output_type": "stream",
     "text": [
      "Média de acidentes por tipo de dia:\n",
      "feriado\n",
      "0    33.796657\n",
      "1     4.000000\n",
      "Name: count, dtype: float64\n",
      "Resultado do Teste t:\n",
      "t-statistic: -21.841718287839765\n",
      "p-value: 1.2104271893861676e-53\n"
     ]
    }
   ],
   "source": [
    "# Definindo uma lista de feriados principais\n",
    "feriados = [\n",
    "    \"2021-01-01\", \"2021-03-02\", \"2021-04-02\", \"2021-04-21\", \n",
    "    \"2021-05-01\", \"2021-06-03\", \"2021-06-24\", \"2021-09-07\", \n",
    "    \"2021-10-12\", \"2021-11-02\", \"2021-11-15\", \"2021-12-25\"\n",
    "]\n",
    "\n",
    "# Marcando feriados no dataframe\n",
    "df_acidentes['feriado'] = df_acidentes['data'].isin(feriados).astype(int)\n",
    "\n",
    "# Agrupar por data e feriado, contando o número de acidentes por dia\n",
    "df_acidentes['count'] = 1 \n",
    "grouped = df_acidentes.groupby(['data', 'feriado']).agg({'count': 'sum'}).reset_index()\n",
    "\n",
    "# Média de acidentes em dias de feriado vs. dias normais\n",
    "media_acidentes = grouped.groupby('feriado')['count'].mean()\n",
    "print(\"Média de acidentes por tipo de dia:\")\n",
    "print(media_acidentes)\n",
    "\n",
    "# Teste de hipótese: Comparando médias de acidentes em dias de feriado vs. dias não feriados\n",
    "t_stat, p_value = ttest_ind(\n",
    "    grouped[grouped['feriado'] == 1]['count'], \n",
    "    grouped[grouped['feriado'] == 0]['count'], \n",
    "    equal_var=False\n",
    ")\n",
    "\n",
    "print(\"Resultado do Teste t:\")\n",
    "print(\"t-statistic:\", t_stat)\n",
    "print(\"p-value:\", p_value)"
   ]
  },
  {
   "cell_type": "markdown",
   "metadata": {},
   "source": [
    "Nossa análise dos dados de trânsito mostrou que mais acidentes ocorrem durante os feriados do que em dias normais. Usamos uma medida estatística, chamada p-valor, para testar se essa diferença é por acaso. Com um p-valor menor que 0,05, descobrimos que a chance de essa diferença ocorrer por acaso é muito pequena. Isso sugere que os feriados realmente têm uma influência significativa no aumento dos acidentes de trânsito."
   ]
  },
  {
   "cell_type": "markdown",
   "metadata": {},
   "source": [
    "#### Tipo de veículo e quantidade de acidentes.\n",
    "Hipótese Nula (H0): Não há diferença significativa na quantidade de acidentes com vítimas entre os tipos de veículos.\n",
    "\n",
    "Hipótese Alternativa (H1): A quantidade de acidentes com vítimas varia significativamente entre os diferentes tipos de veículos (auto, moto, ciclomotor, ciclista, pedestre, ônibus, caminhão, viatura e outros)."
   ]
  },
  {
   "cell_type": "code",
   "execution_count": 92,
   "metadata": {},
   "outputs": [
    {
     "name": "stdout",
     "output_type": "stream",
     "text": [
      "Chi-squared: 154.93829602645198\n",
      "P-value: 6.982563682222359e-31\n"
     ]
    }
   ],
   "source": [
    "# Criar uma tabela de contingência\n",
    "tabela_contingencia = pd.crosstab(df_acidentes['natureza_acidente'], df_acidentes['estacao'])\n",
    "\n",
    "# Realizar o teste qui-quadrado\n",
    "chi2, p_value, dof, expected = chi2_contingency(tabela_contingencia)\n",
    "\n",
    "print(f\"Chi-squared: {chi2}\")\n",
    "print(f\"P-value: {p_value}\")\n"
   ]
  },
  {
   "cell_type": "markdown",
   "metadata": {},
   "source": [
    "Nossa análise estatística mostrou uma relação significativa entre as estações do ano e a natureza dos acidentes de trânsito em Recife. Isso significa que certos tipos de acidentes tendem a ocorrer com mais frequência em algumas estações do ano do que em outras. Com um valor de Chi-quadrado de 154.94 e um p-valor extremamente baixo (praticamente zero), podemos afirmar com confiança que essa variação sazonal não é devido ao acaso."
   ]
  }
 ],
 "metadata": {
  "kernelspec": {
   "display_name": "Python 3",
   "language": "python",
   "name": "python3"
  },
  "language_info": {
   "codemirror_mode": {
    "name": "ipython",
    "version": 3
   },
   "file_extension": ".py",
   "mimetype": "text/x-python",
   "name": "python",
   "nbconvert_exporter": "python",
   "pygments_lexer": "ipython3",
   "version": "3.11.9"
  }
 },
 "nbformat": 4,
 "nbformat_minor": 2
}
