{
 "cells": [
  {
   "cell_type": "code",
   "execution_count": 46,
   "metadata": {},
   "outputs": [],
   "source": [
    "import pandas as pd\n",
    "from sklearn.model_selection import train_test_split\n",
    "from sklearn.linear_model import LogisticRegression\n",
    "from sklearn.tree import DecisionTreeClassifier\n",
    "from sklearn.ensemble import RandomForestClassifier\n",
    "from sklearn.svm import SVC\n",
    "from sklearn.metrics import accuracy_score, classification_report\n",
    "import mlflow\n",
    "import mlflow.sklearn\n",
    "from sklearn.model_selection import GridSearchCV\n",
    "from sklearn.preprocessing import StandardScaler\n",
    "import shap\n",
    "import warnings\n",
    "import numpy as np\n",
    "import matplotlib.pyplot as plt\n",
    "from sklearn.inspection import PartialDependenceDisplay\n",
    "warnings.filterwarnings('ignore')\n",
    "pd.set_option('display.max_columns', None)\n"
   ]
  },
  {
   "cell_type": "code",
   "execution_count": 26,
   "metadata": {},
   "outputs": [],
   "source": [
    "# Leitura do dataset refinado\n",
    "diretorio_acidentes = 'data/refined/acidentes_recife_normalizado.csv'\n",
    "df_acidentes = pd.read_csv(diretorio_acidentes, sep=',', parse_dates=['data'], index_col=0)\n",
    "       "
   ]
  },
  {
   "cell_type": "code",
   "execution_count": 27,
   "metadata": {},
   "outputs": [
    {
     "name": "stdout",
     "output_type": "stream",
     "text": [
      "Número de registros duplicados existentes: 0\n"
     ]
    }
   ],
   "source": [
    "duplicatas = df_acidentes.duplicated(keep=False)\n",
    "\n",
    "numero_duplicatas = duplicatas.sum()\n",
    "\n",
    "# Mostrar o número de duplicatas\n",
    "print(f'Número de registros duplicados existentes: {numero_duplicatas}')"
   ]
  },
  {
   "cell_type": "markdown",
   "metadata": {},
   "source": [
    "# Escolhendo coluna para Classificação"
   ]
  },
  {
   "cell_type": "code",
   "execution_count": 28,
   "metadata": {},
   "outputs": [
    {
     "data": {
      "text/html": [
       "<div>\n",
       "<style scoped>\n",
       "    .dataframe tbody tr th:only-of-type {\n",
       "        vertical-align: middle;\n",
       "    }\n",
       "\n",
       "    .dataframe tbody tr th {\n",
       "        vertical-align: top;\n",
       "    }\n",
       "\n",
       "    .dataframe thead th {\n",
       "        text-align: right;\n",
       "    }\n",
       "</style>\n",
       "<table border=\"1\" class=\"dataframe\">\n",
       "  <thead>\n",
       "    <tr style=\"text-align: right;\">\n",
       "      <th></th>\n",
       "      <th>data</th>\n",
       "      <th>hora</th>\n",
       "      <th>situacao</th>\n",
       "      <th>bairro</th>\n",
       "      <th>endereco</th>\n",
       "      <th>complemento</th>\n",
       "      <th>bairro_cruzamento</th>\n",
       "      <th>tipo</th>\n",
       "      <th>descricao</th>\n",
       "      <th>auto</th>\n",
       "      <th>moto</th>\n",
       "      <th>ciclom</th>\n",
       "      <th>ciclista</th>\n",
       "      <th>pedestre</th>\n",
       "      <th>onibus</th>\n",
       "      <th>caminhao</th>\n",
       "      <th>viatura</th>\n",
       "      <th>outros</th>\n",
       "      <th>vitimas</th>\n",
       "      <th>vitimasfatais</th>\n",
       "      <th>Protocolo</th>\n",
       "      <th>natureza</th>\n",
       "      <th>dia_da_semana</th>\n",
       "      <th>mes</th>\n",
       "      <th>ano</th>\n",
       "      <th>estacao</th>\n",
       "      <th>natureza_acidente</th>\n",
       "      <th>mes_ano</th>\n",
       "    </tr>\n",
       "  </thead>\n",
       "  <tbody>\n",
       "    <tr>\n",
       "      <th>6</th>\n",
       "      <td>2020-01-01</td>\n",
       "      <td>04:47:00</td>\n",
       "      <td>FINALIZADA</td>\n",
       "      <td>PINA</td>\n",
       "      <td>AV CONSELHEIRO AGUIAR</td>\n",
       "      <td>NaN</td>\n",
       "      <td>PINA</td>\n",
       "      <td>CHOQUE OBJETO FIXO</td>\n",
       "      <td>AUTO CHOCOU-SE EM MURO DE UMA RESIDENCIA E EM ...</td>\n",
       "      <td>0.111111</td>\n",
       "      <td>0.027507</td>\n",
       "      <td>0.00172</td>\n",
       "      <td>0.005494</td>\n",
       "      <td>0.004297</td>\n",
       "      <td>0.010223</td>\n",
       "      <td>0.001866</td>\n",
       "      <td>0.001345</td>\n",
       "      <td>0.000307</td>\n",
       "      <td>0.000000</td>\n",
       "      <td>NaN</td>\n",
       "      <td>NaN</td>\n",
       "      <td>NaN</td>\n",
       "      <td>Wednesday</td>\n",
       "      <td>1.0</td>\n",
       "      <td>2020.0</td>\n",
       "      <td>Verão</td>\n",
       "      <td>Sem vítimas</td>\n",
       "      <td>2020-01</td>\n",
       "    </tr>\n",
       "    <tr>\n",
       "      <th>8</th>\n",
       "      <td>2020-01-01</td>\n",
       "      <td>10:07:00</td>\n",
       "      <td>FINALIZADA</td>\n",
       "      <td>MADALENA</td>\n",
       "      <td>EST DOS REMEDIOS</td>\n",
       "      <td>LADO OPOSTO AO LESSA DE ANDRADE</td>\n",
       "      <td>MADALENA</td>\n",
       "      <td>CHOQUE OBJETO FIXO</td>\n",
       "      <td>PEGEOUT SE CHOCOU COM POSTE E COM O GRADIL DA ...</td>\n",
       "      <td>0.111111</td>\n",
       "      <td>0.027507</td>\n",
       "      <td>0.00172</td>\n",
       "      <td>0.005494</td>\n",
       "      <td>0.004297</td>\n",
       "      <td>0.010223</td>\n",
       "      <td>0.001866</td>\n",
       "      <td>0.001345</td>\n",
       "      <td>0.000307</td>\n",
       "      <td>0.047619</td>\n",
       "      <td>NaN</td>\n",
       "      <td>NaN</td>\n",
       "      <td>NaN</td>\n",
       "      <td>Wednesday</td>\n",
       "      <td>1.0</td>\n",
       "      <td>2020.0</td>\n",
       "      <td>Verão</td>\n",
       "      <td>Não fatal</td>\n",
       "      <td>2020-01</td>\n",
       "    </tr>\n",
       "    <tr>\n",
       "      <th>9</th>\n",
       "      <td>2020-01-01</td>\n",
       "      <td>12:09:00</td>\n",
       "      <td>FINALIZADA</td>\n",
       "      <td>NOVA DESCOBERTA</td>\n",
       "      <td>RUA NOVA DESCOBERTA</td>\n",
       "      <td>NaN</td>\n",
       "      <td>NOVA DESCOBERTA</td>\n",
       "      <td>CHOQUE VEÍCULO PARADO</td>\n",
       "      <td>COLISÃO SEM VÍTIMA</td>\n",
       "      <td>0.111111</td>\n",
       "      <td>0.050000</td>\n",
       "      <td>0.00000</td>\n",
       "      <td>0.000000</td>\n",
       "      <td>0.000000</td>\n",
       "      <td>0.000000</td>\n",
       "      <td>0.066667</td>\n",
       "      <td>0.018182</td>\n",
       "      <td>0.000000</td>\n",
       "      <td>0.000000</td>\n",
       "      <td>NaN</td>\n",
       "      <td>NaN</td>\n",
       "      <td>NaN</td>\n",
       "      <td>Wednesday</td>\n",
       "      <td>1.0</td>\n",
       "      <td>2020.0</td>\n",
       "      <td>Verão</td>\n",
       "      <td>Sem vítimas</td>\n",
       "      <td>2020-01</td>\n",
       "    </tr>\n",
       "    <tr>\n",
       "      <th>13</th>\n",
       "      <td>2020-01-01</td>\n",
       "      <td>16:56:00</td>\n",
       "      <td>FINALIZADA</td>\n",
       "      <td>SAN MARTIN</td>\n",
       "      <td>RUA VINTE E UM DE ABRIL</td>\n",
       "      <td>LOJA MULTILAR</td>\n",
       "      <td>SAN MARTIN</td>\n",
       "      <td>ABALROAMENTO TRANSVERSAL</td>\n",
       "      <td>COLISÃO S/VITIMAS UMA MOTO E UM AUTO</td>\n",
       "      <td>0.111111</td>\n",
       "      <td>0.125000</td>\n",
       "      <td>0.00000</td>\n",
       "      <td>0.000000</td>\n",
       "      <td>0.040000</td>\n",
       "      <td>0.000000</td>\n",
       "      <td>0.000000</td>\n",
       "      <td>0.000000</td>\n",
       "      <td>0.000000</td>\n",
       "      <td>0.000000</td>\n",
       "      <td>NaN</td>\n",
       "      <td>NaN</td>\n",
       "      <td>NaN</td>\n",
       "      <td>Wednesday</td>\n",
       "      <td>1.0</td>\n",
       "      <td>2020.0</td>\n",
       "      <td>Verão</td>\n",
       "      <td>Sem vítimas</td>\n",
       "      <td>2020-01</td>\n",
       "    </tr>\n",
       "    <tr>\n",
       "      <th>14</th>\n",
       "      <td>2020-01-01</td>\n",
       "      <td>23:46:00</td>\n",
       "      <td>FINALIZADA</td>\n",
       "      <td>BOA VIAGEM</td>\n",
       "      <td>RUA DEZ DE JULHO</td>\n",
       "      <td>APÓS A ESTAÇÃO AEROPORTO / NA RUA DO SALÃO DE ...</td>\n",
       "      <td>BOA VIAGEM</td>\n",
       "      <td>COLISÃO FRONTAL</td>\n",
       "      <td>ENTRE AUTO E MOTO. C/V</td>\n",
       "      <td>0.111111</td>\n",
       "      <td>0.125000</td>\n",
       "      <td>0.00000</td>\n",
       "      <td>0.000000</td>\n",
       "      <td>0.040000</td>\n",
       "      <td>0.000000</td>\n",
       "      <td>0.000000</td>\n",
       "      <td>0.000000</td>\n",
       "      <td>0.000000</td>\n",
       "      <td>0.047619</td>\n",
       "      <td>NaN</td>\n",
       "      <td>NaN</td>\n",
       "      <td>NaN</td>\n",
       "      <td>Wednesday</td>\n",
       "      <td>1.0</td>\n",
       "      <td>2020.0</td>\n",
       "      <td>Verão</td>\n",
       "      <td>Não fatal</td>\n",
       "      <td>2020-01</td>\n",
       "    </tr>\n",
       "  </tbody>\n",
       "</table>\n",
       "</div>"
      ],
      "text/plain": [
       "         data      hora    situacao           bairro                 endereco  \\\n",
       "6  2020-01-01  04:47:00  FINALIZADA             PINA    AV CONSELHEIRO AGUIAR   \n",
       "8  2020-01-01  10:07:00  FINALIZADA         MADALENA         EST DOS REMEDIOS   \n",
       "9  2020-01-01  12:09:00  FINALIZADA  NOVA DESCOBERTA      RUA NOVA DESCOBERTA   \n",
       "13 2020-01-01  16:56:00  FINALIZADA       SAN MARTIN  RUA VINTE E UM DE ABRIL   \n",
       "14 2020-01-01  23:46:00  FINALIZADA       BOA VIAGEM         RUA DEZ DE JULHO   \n",
       "\n",
       "                                          complemento bairro_cruzamento  \\\n",
       "6                                                 NaN              PINA   \n",
       "8                     LADO OPOSTO AO LESSA DE ANDRADE          MADALENA   \n",
       "9                                                 NaN   NOVA DESCOBERTA   \n",
       "13                                      LOJA MULTILAR        SAN MARTIN   \n",
       "14  APÓS A ESTAÇÃO AEROPORTO / NA RUA DO SALÃO DE ...        BOA VIAGEM   \n",
       "\n",
       "                        tipo  \\\n",
       "6         CHOQUE OBJETO FIXO   \n",
       "8         CHOQUE OBJETO FIXO   \n",
       "9      CHOQUE VEÍCULO PARADO   \n",
       "13  ABALROAMENTO TRANSVERSAL   \n",
       "14           COLISÃO FRONTAL   \n",
       "\n",
       "                                            descricao      auto      moto  \\\n",
       "6   AUTO CHOCOU-SE EM MURO DE UMA RESIDENCIA E EM ...  0.111111  0.027507   \n",
       "8   PEGEOUT SE CHOCOU COM POSTE E COM O GRADIL DA ...  0.111111  0.027507   \n",
       "9                                  COLISÃO SEM VÍTIMA  0.111111  0.050000   \n",
       "13               COLISÃO S/VITIMAS UMA MOTO E UM AUTO  0.111111  0.125000   \n",
       "14                             ENTRE AUTO E MOTO. C/V  0.111111  0.125000   \n",
       "\n",
       "     ciclom  ciclista  pedestre    onibus  caminhao   viatura    outros  \\\n",
       "6   0.00172  0.005494  0.004297  0.010223  0.001866  0.001345  0.000307   \n",
       "8   0.00172  0.005494  0.004297  0.010223  0.001866  0.001345  0.000307   \n",
       "9   0.00000  0.000000  0.000000  0.000000  0.066667  0.018182  0.000000   \n",
       "13  0.00000  0.000000  0.040000  0.000000  0.000000  0.000000  0.000000   \n",
       "14  0.00000  0.000000  0.040000  0.000000  0.000000  0.000000  0.000000   \n",
       "\n",
       "     vitimas  vitimasfatais Protocolo natureza dia_da_semana  mes     ano  \\\n",
       "6   0.000000            NaN       NaN      NaN     Wednesday  1.0  2020.0   \n",
       "8   0.047619            NaN       NaN      NaN     Wednesday  1.0  2020.0   \n",
       "9   0.000000            NaN       NaN      NaN     Wednesday  1.0  2020.0   \n",
       "13  0.000000            NaN       NaN      NaN     Wednesday  1.0  2020.0   \n",
       "14  0.047619            NaN       NaN      NaN     Wednesday  1.0  2020.0   \n",
       "\n",
       "   estacao natureza_acidente  mes_ano  \n",
       "6    Verão       Sem vítimas  2020-01  \n",
       "8    Verão         Não fatal  2020-01  \n",
       "9    Verão       Sem vítimas  2020-01  \n",
       "13   Verão       Sem vítimas  2020-01  \n",
       "14   Verão         Não fatal  2020-01  "
      ]
     },
     "execution_count": 28,
     "metadata": {},
     "output_type": "execute_result"
    }
   ],
   "source": [
    "df_acidentes.head()"
   ]
  },
  {
   "cell_type": "code",
   "execution_count": 29,
   "metadata": {},
   "outputs": [],
   "source": [
    "\n",
    "# Preparação dos dados para um modelo de classificação (natureza_acidente)\n",
    "df_classificacao = df_acidentes.copy()\n",
    "\n",
    "# Selecionando as colunas relevantes para classificação\n",
    "columns_to_drop_classificacao = [\n",
    "    'data', 'hora', 'endereco', 'complemento', 'bairro_cruzamento',\n",
    "    'descricao', 'Protocolo', 'estacao', 'vitimas', 'tipo', 'natureza', 'ano', 'mes_ano'\n",
    "]\n",
    "\n",
    "df_classificacao = df_classificacao.drop(columns=columns_to_drop_classificacao)\n",
    "\n",
    "# Remover linhas com valores ausentes na coluna alvo\n",
    "df_classificacao = df_classificacao.dropna(subset=['natureza_acidente'])\n",
    "\n",
    "# Tratamento dos valores ausentes (NaNs) nas features\n",
    "for column in df_classificacao.columns:\n",
    "    if df_classificacao[column].dtype == 'object':\n",
    "        df_classificacao[column].fillna(df_classificacao[column].mode()[0], inplace=True)\n",
    "    else:\n",
    "        df_classificacao[column].fillna(df_classificacao[column].mean(), inplace=True)\n",
    "\n",
    "# Convertendo colunas categóricas para numéricas usando Label Encoding\n",
    "categorical_columns = df_classificacao.select_dtypes(include=['object']).columns\n",
    "for column in categorical_columns:\n",
    "    df_classificacao[column] = df_classificacao[column].astype('category').cat.codes\n",
    "\n",
    "\n",
    "#Estudar trocar Label Encoding por outra técnica - Target Encoding - Olhar a cardinalidade das variáveis categóricas. Se tiver baixa cardinalidade, one hot encoding.   Se fora alta, target encode"
   ]
  },
  {
   "cell_type": "code",
   "execution_count": 30,
   "metadata": {},
   "outputs": [
    {
     "data": {
      "text/html": [
       "<div>\n",
       "<style scoped>\n",
       "    .dataframe tbody tr th:only-of-type {\n",
       "        vertical-align: middle;\n",
       "    }\n",
       "\n",
       "    .dataframe tbody tr th {\n",
       "        vertical-align: top;\n",
       "    }\n",
       "\n",
       "    .dataframe thead th {\n",
       "        text-align: right;\n",
       "    }\n",
       "</style>\n",
       "<table border=\"1\" class=\"dataframe\">\n",
       "  <thead>\n",
       "    <tr style=\"text-align: right;\">\n",
       "      <th></th>\n",
       "      <th>situacao</th>\n",
       "      <th>bairro</th>\n",
       "      <th>auto</th>\n",
       "      <th>moto</th>\n",
       "      <th>ciclom</th>\n",
       "      <th>ciclista</th>\n",
       "      <th>pedestre</th>\n",
       "      <th>onibus</th>\n",
       "      <th>caminhao</th>\n",
       "      <th>viatura</th>\n",
       "      <th>outros</th>\n",
       "      <th>vitimasfatais</th>\n",
       "      <th>dia_da_semana</th>\n",
       "      <th>mes</th>\n",
       "      <th>natureza_acidente</th>\n",
       "    </tr>\n",
       "  </thead>\n",
       "  <tbody>\n",
       "    <tr>\n",
       "      <th>6</th>\n",
       "      <td>8</td>\n",
       "      <td>90</td>\n",
       "      <td>0.111111</td>\n",
       "      <td>0.027507</td>\n",
       "      <td>0.00172</td>\n",
       "      <td>0.005494</td>\n",
       "      <td>0.004297</td>\n",
       "      <td>0.010223</td>\n",
       "      <td>0.001866</td>\n",
       "      <td>0.001345</td>\n",
       "      <td>0.000307</td>\n",
       "      <td>0.000428</td>\n",
       "      <td>6</td>\n",
       "      <td>1.0</td>\n",
       "      <td>2</td>\n",
       "    </tr>\n",
       "    <tr>\n",
       "      <th>8</th>\n",
       "      <td>8</td>\n",
       "      <td>78</td>\n",
       "      <td>0.111111</td>\n",
       "      <td>0.027507</td>\n",
       "      <td>0.00172</td>\n",
       "      <td>0.005494</td>\n",
       "      <td>0.004297</td>\n",
       "      <td>0.010223</td>\n",
       "      <td>0.001866</td>\n",
       "      <td>0.001345</td>\n",
       "      <td>0.000307</td>\n",
       "      <td>0.000428</td>\n",
       "      <td>6</td>\n",
       "      <td>1.0</td>\n",
       "      <td>1</td>\n",
       "    </tr>\n",
       "    <tr>\n",
       "      <th>9</th>\n",
       "      <td>8</td>\n",
       "      <td>85</td>\n",
       "      <td>0.111111</td>\n",
       "      <td>0.050000</td>\n",
       "      <td>0.00000</td>\n",
       "      <td>0.000000</td>\n",
       "      <td>0.000000</td>\n",
       "      <td>0.000000</td>\n",
       "      <td>0.066667</td>\n",
       "      <td>0.018182</td>\n",
       "      <td>0.000000</td>\n",
       "      <td>0.000428</td>\n",
       "      <td>6</td>\n",
       "      <td>1.0</td>\n",
       "      <td>2</td>\n",
       "    </tr>\n",
       "    <tr>\n",
       "      <th>13</th>\n",
       "      <td>8</td>\n",
       "      <td>97</td>\n",
       "      <td>0.111111</td>\n",
       "      <td>0.125000</td>\n",
       "      <td>0.00000</td>\n",
       "      <td>0.000000</td>\n",
       "      <td>0.040000</td>\n",
       "      <td>0.000000</td>\n",
       "      <td>0.000000</td>\n",
       "      <td>0.000000</td>\n",
       "      <td>0.000000</td>\n",
       "      <td>0.000428</td>\n",
       "      <td>6</td>\n",
       "      <td>1.0</td>\n",
       "      <td>2</td>\n",
       "    </tr>\n",
       "    <tr>\n",
       "      <th>14</th>\n",
       "      <td>8</td>\n",
       "      <td>17</td>\n",
       "      <td>0.111111</td>\n",
       "      <td>0.125000</td>\n",
       "      <td>0.00000</td>\n",
       "      <td>0.000000</td>\n",
       "      <td>0.040000</td>\n",
       "      <td>0.000000</td>\n",
       "      <td>0.000000</td>\n",
       "      <td>0.000000</td>\n",
       "      <td>0.000000</td>\n",
       "      <td>0.000428</td>\n",
       "      <td>6</td>\n",
       "      <td>1.0</td>\n",
       "      <td>1</td>\n",
       "    </tr>\n",
       "  </tbody>\n",
       "</table>\n",
       "</div>"
      ],
      "text/plain": [
       "    situacao  bairro      auto      moto   ciclom  ciclista  pedestre  \\\n",
       "6          8      90  0.111111  0.027507  0.00172  0.005494  0.004297   \n",
       "8          8      78  0.111111  0.027507  0.00172  0.005494  0.004297   \n",
       "9          8      85  0.111111  0.050000  0.00000  0.000000  0.000000   \n",
       "13         8      97  0.111111  0.125000  0.00000  0.000000  0.040000   \n",
       "14         8      17  0.111111  0.125000  0.00000  0.000000  0.040000   \n",
       "\n",
       "      onibus  caminhao   viatura    outros  vitimasfatais  dia_da_semana  mes  \\\n",
       "6   0.010223  0.001866  0.001345  0.000307       0.000428              6  1.0   \n",
       "8   0.010223  0.001866  0.001345  0.000307       0.000428              6  1.0   \n",
       "9   0.000000  0.066667  0.018182  0.000000       0.000428              6  1.0   \n",
       "13  0.000000  0.000000  0.000000  0.000000       0.000428              6  1.0   \n",
       "14  0.000000  0.000000  0.000000  0.000000       0.000428              6  1.0   \n",
       "\n",
       "    natureza_acidente  \n",
       "6                   2  \n",
       "8                   1  \n",
       "9                   2  \n",
       "13                  2  \n",
       "14                  1  "
      ]
     },
     "execution_count": 30,
     "metadata": {},
     "output_type": "execute_result"
    }
   ],
   "source": [
    "df_classificacao.head()"
   ]
  },
  {
   "cell_type": "markdown",
   "metadata": {},
   "source": [
    "# Separando dados de treinamento, validação e teste."
   ]
  },
  {
   "cell_type": "code",
   "execution_count": 31,
   "metadata": {},
   "outputs": [],
   "source": [
    "# Separando os dados em features e target\n",
    "X_classificacao = df_classificacao.drop(columns=['natureza_acidente'])\n",
    "y_classificacao = df_classificacao['natureza_acidente']\n",
    "\n",
    "# Separando os dados em treinamento, validação e teste com amostragem estratificada\n",
    "X_train, X_temp, y_train, y_temp = train_test_split(X_classificacao, y_classificacao, test_size=0.4, random_state=42, stratify=y_classificacao)\n",
    "X_val, X_test, y_val, y_test = train_test_split(X_temp, y_temp, test_size=0.5, random_state=42, stratify=y_temp)\n",
    "\n"
   ]
  },
  {
   "cell_type": "code",
   "execution_count": 32,
   "metadata": {},
   "outputs": [
    {
     "name": "stdout",
     "output_type": "stream",
     "text": [
      "Número de amostras sobrepostas entre treino e teste: 41409\n"
     ]
    }
   ],
   "source": [
    "# Verificar sobreposição de amostras entre conjuntos de treino e teste\n",
    "overlap_train_test = pd.merge(X_train, X_test, how='inner', indicator=True)\n",
    "print(f\"Número de amostras sobrepostas entre treino e teste: {len(overlap_train_test)}\")"
   ]
  },
  {
   "cell_type": "markdown",
   "metadata": {},
   "source": [
    "# Treinando 4 modelos de classificação."
   ]
  },
  {
   "cell_type": "code",
   "execution_count": 33,
   "metadata": {},
   "outputs": [],
   "source": [
    "# Padronizar os dados\n",
    "scaler = StandardScaler()\n",
    "X_train = scaler.fit_transform(X_train)\n",
    "X_val = scaler.transform(X_val)\n",
    "X_test = scaler.transform(X_test)\n",
    "\n",
    "# Convertendo de volta para DataFrame para manter os nomes das características\n",
    "X_train_df = pd.DataFrame(X_train, columns=X_classificacao.columns)\n",
    "X_val_df = pd.DataFrame(X_val, columns=X_classificacao.columns)\n",
    "X_test_df = pd.DataFrame(X_test, columns=X_classificacao.columns)\n",
    "\n",
    "#verificar um possível vazamento de dados"
   ]
  },
  {
   "cell_type": "markdown",
   "metadata": {},
   "source": [
    "### Logistic Regression"
   ]
  },
  {
   "cell_type": "code",
   "execution_count": 34,
   "metadata": {},
   "outputs": [],
   "source": [
    "with mlflow.start_run(run_name=\"Logistic Regression\"):\n",
    "    # Definindo o modelo\n",
    "    model_lr = LogisticRegression()\n",
    "\n",
    "    # Treinamento\n",
    "    model_lr.fit(X_train, y_train)\n",
    "\n",
    "    # Previsões\n",
    "    y_pred_val_lr = model_lr.predict(X_val)\n",
    "\n",
    "    # Avaliação\n",
    "    accuracy_lr = accuracy_score(y_val, y_pred_val_lr)\n",
    "    report_lr = classification_report(y_val, y_pred_val_lr, output_dict=True)\n",
    "\n",
    "    # Log metrics\n",
    "    mlflow.log_metric(\"accuracy\", accuracy_lr)\n",
    "\n",
    "    # Log model\n",
    "    mlflow.sklearn.log_model(model_lr, \"model\")\n"
   ]
  },
  {
   "cell_type": "code",
   "execution_count": 35,
   "metadata": {},
   "outputs": [
    {
     "name": "stdout",
     "output_type": "stream",
     "text": [
      "Best Logistic Regression model: LogisticRegression(C=0.1)\n",
      "Best parameters: {'C': 0.1, 'penalty': 'l2'}\n",
      "Best score: 0.958138887930214\n",
      "Test accuracy for Logistic Regression: 0.9585349901896665\n"
     ]
    }
   ],
   "source": [
    "# Parâmetros de busca\n",
    "param_grid_lr = {\n",
    "    'C': [0.1, 1, 10],\n",
    "    'penalty': ['l2']\n",
    "}\n",
    "\n",
    "# Executando GridSearchCV para Logistic Regression\n",
    "grid_search_lr = GridSearchCV(LogisticRegression(), param_grid_lr, cv=5, scoring='accuracy', n_jobs=-1)\n",
    "grid_search_lr.fit(X_train, y_train)\n",
    "\n",
    "best_model_lr = grid_search_lr.best_estimator_\n",
    "print(f\"Best Logistic Regression model: {best_model_lr}\")\n",
    "print(f\"Best parameters: {grid_search_lr.best_params_}\")\n",
    "print(f\"Best score: {grid_search_lr.best_score_}\")\n",
    "\n",
    "# Avaliar o melhor modelo no conjunto de teste\n",
    "y_pred_test_lr = best_model_lr.predict(X_test)\n",
    "accuracy_lr = accuracy_score(y_test, y_pred_test_lr)\n",
    "print(f\"Test accuracy for Logistic Regression: {accuracy_lr}\")\n",
    "\n",
    "# Registrando o nome do melhor modelo no MlFlow\n",
    "with mlflow.start_run(run_name=\"Best Model - Logistic Regression\"):\n",
    "    mlflow.log_metric(\"test_accuracy\", accuracy_lr)\n",
    "    mlflow.sklearn.log_model(best_model_lr, \"best_model\")\n"
   ]
  },
  {
   "cell_type": "markdown",
   "metadata": {},
   "source": [
    "### Decision Tree"
   ]
  },
  {
   "cell_type": "code",
   "execution_count": 36,
   "metadata": {},
   "outputs": [],
   "source": [
    "with mlflow.start_run(run_name=\"Decision Tree\"):\n",
    "    # Definindo o modelo\n",
    "    model_dt = DecisionTreeClassifier()\n",
    "\n",
    "    # Treinamento\n",
    "    model_dt.fit(X_train, y_train)\n",
    "\n",
    "    # Previsões\n",
    "    y_pred_val_dt = model_dt.predict(X_val)\n",
    "\n",
    "    # Avaliação\n",
    "    accuracy_dt = accuracy_score(y_val, y_pred_val_dt)\n",
    "    report_dt = classification_report(y_val, y_pred_val_dt, output_dict=True)\n",
    "\n",
    "    # Log metrics\n",
    "    mlflow.log_metric(\"accuracy\", accuracy_dt)\n",
    "    \n",
    "    # Log classification report\n",
    "    mlflow.log_metrics({\n",
    "        'precision': report_dt['weighted avg']['precision'],\n",
    "        'recall': report_dt['weighted avg']['recall'],\n",
    "        'f1-score': report_dt['weighted avg']['f1-score']\n",
    "    })\n",
    "\n",
    "    # Log model\n",
    "    mlflow.sklearn.log_model(model_dt, \"model\")\n"
   ]
  },
  {
   "cell_type": "code",
   "execution_count": 37,
   "metadata": {},
   "outputs": [
    {
     "name": "stdout",
     "output_type": "stream",
     "text": [
      "Test accuracy for Decision Tree: 0.9584041857423152\n"
     ]
    }
   ],
   "source": [
    "# Parâmetros de busca\n",
    "param_grid_dt = {\n",
    "    'max_depth': [5, 10, 20],\n",
    "    'min_samples_split': [2, 5, 10],\n",
    "    'min_samples_leaf': [1, 2, 4]\n",
    "}\n",
    "\n",
    "# Executando GridSearchCV para Decision Tree\n",
    "grid_search_dt = GridSearchCV(DecisionTreeClassifier(), param_grid_dt, cv=5, scoring='accuracy', n_jobs=-1)\n",
    "grid_search_dt.fit(X_train, y_train)\n",
    "\n",
    "best_model_dt = grid_search_dt.best_estimator_\n",
    "\n",
    "# Avaliar o melhor modelo no conjunto de teste\n",
    "y_pred_test_dt = best_model_dt.predict(X_test)\n",
    "accuracy_dt = accuracy_score(y_test, y_pred_test_dt)\n",
    "print(f\"Test accuracy for Decision Tree: {accuracy_dt}\")\n",
    "\n",
    "# Registrando o nome do melhor modelo no MlFlow\n",
    "with mlflow.start_run(run_name=\"Best Model - Decision Tree\"):\n",
    "    mlflow.log_metric(\"test_accuracy\", accuracy_dt)\n",
    "    mlflow.sklearn.log_model(best_model_dt, \"best_model\")\n"
   ]
  },
  {
   "cell_type": "markdown",
   "metadata": {},
   "source": [
    "### Random Forest"
   ]
  },
  {
   "cell_type": "code",
   "execution_count": 38,
   "metadata": {},
   "outputs": [],
   "source": [
    "with mlflow.start_run(run_name=\"Random Forest\"):\n",
    "    # Definindo o modelo\n",
    "    model_rf = RandomForestClassifier()\n",
    "\n",
    "    # Treinamento\n",
    "    model_rf.fit(X_train, y_train)\n",
    "\n",
    "    # Previsões\n",
    "    y_pred_val_rf = model_rf.predict(X_val)\n",
    "\n",
    "    # Avaliação\n",
    "    accuracy_rf = accuracy_score(y_val, y_pred_val_rf)\n",
    "    report_rf = classification_report(y_val, y_pred_val_rf, output_dict=True)\n",
    "\n",
    "    # Log metrics\n",
    "    mlflow.log_metric(\"accuracy\", accuracy_rf)\n",
    "    \n",
    "    # Log classification report\n",
    "    mlflow.log_metrics({\n",
    "        'precision': report_rf['weighted avg']['precision'],\n",
    "        'recall': report_rf['weighted avg']['recall'],\n",
    "        'f1-score': report_rf['weighted avg']['f1-score']\n",
    "    })\n",
    "\n",
    "    # Log model\n",
    "    mlflow.sklearn.log_model(model_rf, \"model\")\n",
    "\n"
   ]
  },
  {
   "cell_type": "code",
   "execution_count": 39,
   "metadata": {},
   "outputs": [
    {
     "name": "stdout",
     "output_type": "stream",
     "text": [
      "Best Random Forest model: RandomForestClassifier(max_depth=10, min_samples_split=10)\n",
      "Best parameters: {'max_depth': 10, 'min_samples_split': 10, 'n_estimators': 100}\n",
      "Best score: 0.9590982821719471\n",
      "Test accuracy for Random Forest: 0.9591890124264225\n"
     ]
    }
   ],
   "source": [
    "# Parâmetros de busca\n",
    "param_grid_rf = {\n",
    "    'n_estimators': [50, 100, 200],\n",
    "    'max_depth': [5, 10, 20],\n",
    "    'min_samples_split': [2, 5, 10]\n",
    "}\n",
    "\n",
    "# Executar GridSearchCV para Random Forest\n",
    "grid_search_rf = GridSearchCV(RandomForestClassifier(), param_grid_rf, cv=5, scoring='accuracy', n_jobs=-1)\n",
    "grid_search_rf.fit(X_train, y_train)\n",
    "\n",
    "best_model_rf = grid_search_rf.best_estimator_\n",
    "print(f\"Best Random Forest model: {best_model_rf}\")\n",
    "print(f\"Best parameters: {grid_search_rf.best_params_}\")\n",
    "print(f\"Best score: {grid_search_rf.best_score_}\")\n",
    "\n",
    "# Avaliar o melhor modelo no conjunto de teste\n",
    "y_pred_test_rf = best_model_rf.predict(X_test)\n",
    "accuracy_rf = accuracy_score(y_test, y_pred_test_rf)\n",
    "print(f\"Test accuracy for Random Forest: {accuracy_rf}\")\n",
    "\n",
    "# Registrando o nome do melhor modelo no MlFlow\n",
    "with mlflow.start_run(run_name=\"Best Model - Random Forest\"):\n",
    "    mlflow.log_metric(\"test_accuracy\", accuracy_rf)\n",
    "    mlflow.sklearn.log_model(best_model_rf, \"best_model\")\n"
   ]
  },
  {
   "cell_type": "markdown",
   "metadata": {},
   "source": [
    "### Support Vector Machine"
   ]
  },
  {
   "cell_type": "code",
   "execution_count": 40,
   "metadata": {},
   "outputs": [],
   "source": [
    "with mlflow.start_run(run_name=\"Support Vector Machine\"):\n",
    "    # Definindo o modelo\n",
    "    model_svm = SVC()\n",
    "\n",
    "    # Treinamento\n",
    "    model_svm.fit(X_train, y_train)\n",
    "\n",
    "    # Previsões\n",
    "    y_pred_val_svm = model_svm.predict(X_val)\n",
    "\n",
    "    # Avaliação\n",
    "    accuracy_svm = accuracy_score(y_val, y_pred_val_svm)\n",
    "    report_svm = classification_report(y_val, y_pred_val_svm, output_dict=True)\n",
    "\n",
    "    # Log metrics\n",
    "    mlflow.log_metric(\"accuracy\", accuracy_svm)\n",
    "    \n",
    "    # Log classification report metrics\n",
    "    mlflow.log_metrics({\n",
    "        'precision_weighted': report_svm['weighted avg']['precision'],\n",
    "        'recall_weighted': report_svm['weighted avg']['recall'],\n",
    "        'f1_score_weighted': report_svm['weighted avg']['f1-score'],\n",
    "        'precision_macro': report_svm['macro avg']['precision'],\n",
    "        'recall_macro': report_svm['macro avg']['recall'],\n",
    "        'f1_score_macro': report_svm['macro avg']['f1-score']\n",
    "    })\n",
    "\n",
    "    # Log model\n",
    "    mlflow.sklearn.log_model(model_svm, \"model\")\n"
   ]
  },
  {
   "cell_type": "code",
   "execution_count": 41,
   "metadata": {},
   "outputs": [
    {
     "name": "stdout",
     "output_type": "stream",
     "text": [
      "Best Support Vector Machine model: SVC(C=1)\n",
      "Best parameters: {'C': 1, 'gamma': 'scale', 'kernel': 'rbf'}\n",
      "Best score: 0.9583133128750537\n",
      "Test accuracy for Support Vector Machine: 0.9578809679529104\n"
     ]
    }
   ],
   "source": [
    "# Parâmetros de busca\n",
    "param_grid_svm = {\n",
    "    'C': [0.1, 1, 10],\n",
    "    'kernel': ['linear', 'rbf'],\n",
    "    'gamma': ['scale', 'auto']\n",
    "}\n",
    "\n",
    "# Executar GridSearchCV para Support Vector Machine\n",
    "grid_search_svm = GridSearchCV(SVC(), param_grid_svm, cv=5, scoring='accuracy', n_jobs=-1)\n",
    "grid_search_svm.fit(X_train, y_train)\n",
    "\n",
    "best_model_svm = grid_search_svm.best_estimator_\n",
    "print(f\"Best Support Vector Machine model: {best_model_svm}\")\n",
    "print(f\"Best parameters: {grid_search_svm.best_params_}\")\n",
    "print(f\"Best score: {grid_search_svm.best_score_}\")\n",
    "\n",
    "# Avaliar o melhor modelo no conjunto de teste\n",
    "y_pred_test_svm = best_model_svm.predict(X_test)\n",
    "accuracy_svm = accuracy_score(y_test, y_pred_test_svm)\n",
    "print(f\"Test accuracy for Support Vector Machine: {accuracy_svm}\")\n",
    "\n",
    "# Registrando o nome do melhor modelo no MlFlow\n",
    "with mlflow.start_run(run_name=\"Best Model - Support Vector Machine\"):\n",
    "    mlflow.log_metric(\"test_accuracy\", accuracy_svm)\n",
    "    mlflow.sklearn.log_model(best_model_svm, \"best_model\")\n"
   ]
  },
  {
   "cell_type": "code",
   "execution_count": 42,
   "metadata": {},
   "outputs": [],
   "source": [
    "#comando feito para inicializar o mlflow no navegador. Descomente quando quiser visualizar no navegador.\n",
    "#http://localhost:5000/\n",
    "\n",
    "\n",
    "#!mlflow ui\n"
   ]
  },
  {
   "cell_type": "markdown",
   "metadata": {},
   "source": [
    "# Realizar diagnóstico do melhor modelo."
   ]
  },
  {
   "cell_type": "markdown",
   "metadata": {},
   "source": [
    "O dataset possui poucos dados, então a acurácia acabou sendo muito elevada, talvez até apresentando overfitting. O modelo que apresentou melhor resultado foi o Random Forest, com score 0.9590982821719471. Vamos realizar um diagnóstico para entender como melhorar a eficácia do modelo.\n"
   ]
  },
  {
   "cell_type": "code",
   "execution_count": 49,
   "metadata": {},
   "outputs": [
    {
     "data": {
      "image/png": "[encoded data removed]",
      "text/plain": [
       "<Figure size 1000x600 with 1 Axes>"
      ]
     },
     "metadata": {},
     "output_type": "display_data"
    }
   ],
   "source": [
    "# Feature Importance. É interessante que o rf já possui o feature importance dentro dele\n",
    "importances = best_model_rf.feature_importances_\n",
    "indices = np.argsort(importances)[::-1]\n",
    "\n",
    "\n",
    "plt.figure(figsize=(10, 6))\n",
    "plt.title(\"Feature Importances\")\n",
    "plt.bar(range(10), importances[indices][:10], align=\"center\")\n",
    "plt.xticks(range(10), [X_classificacao.columns[i] for i in indices][:10], rotation=45)\n",
    "plt.xlim([-1, 10])\n",
    "plt.show()"
   ]
  },
  {
   "cell_type": "markdown",
   "metadata": {},
   "source": [
    "O teste de feature importance mostrou que a coluna 'X' possui uma importância muito alta. Remover ela do modelo pode ser interessante."
   ]
  },
  {
   "cell_type": "code",
   "execution_count": 50,
   "metadata": {},
   "outputs": [
    {
     "name": "stdout",
     "output_type": "stream",
     "text": [
      "Nomes das características após a padronização:\n",
      "['situacao', 'bairro', 'auto', 'moto', 'ciclom', 'ciclista', 'pedestre', 'onibus', 'caminhao', 'viatura', 'outros', 'vitimasfatais', 'dia_da_semana', 'mes']\n"
     ]
    }
   ],
   "source": [
    "# Verificar os nomes das características após a padronização\n",
    "print(\"Nomes das características após a padronização:\")\n",
    "print(X_train_df.columns.tolist())"
   ]
  },
  {
   "cell_type": "code",
   "execution_count": 58,
   "metadata": {},
   "outputs": [
    {
     "name": "stdout",
     "output_type": "stream",
     "text": [
      "Explicação para a Classe 0\n"
     ]
    },
    {
     "data": {
      "image/png": "[encoded data removed]",
      "text/plain": [
       "<Figure size 640x480 with 1 Axes>"
      ]
     },
     "metadata": {},
     "output_type": "display_data"
    },
    {
     "name": "stdout",
     "output_type": "stream",
     "text": [
      "Explicação para a Classe 1\n"
     ]
    },
    {
     "data": {
      "image/png": "[encoded data removed]",
      "text/plain": [
       "<Figure size 640x480 with 1 Axes>"
      ]
     },
     "metadata": {},
     "output_type": "display_data"
    },
    {
     "name": "stdout",
     "output_type": "stream",
     "text": [
      "Explicação para a Classe 2\n"
     ]
    },
    {
     "data": {
      "image/png": "[encoded data removed]",
      "text/plain": [
       "<Figure size 640x480 with 1 Axes>"
      ]
     },
     "metadata": {},
     "output_type": "display_data"
    }
   ],
   "source": [
    "import lime\n",
    "import lime.lime_tabular\n",
    "\n",
    "# Criar um explicador LIME\n",
    "explainer = lime.lime_tabular.LimeTabularExplainer(\n",
    "    training_data=X_train, \n",
    "    feature_names=X_classificacao.columns, \n",
    "    class_names=np.unique(y_classificacao).astype(str), \n",
    "    mode='classification'\n",
    ")\n",
    "\n",
    "# Função para gerar explicações para diferentes classes\n",
    "def explain_class(sample_idx, target_class):\n",
    "    exp = explainer.explain_instance(X_test[sample_idx], best_model_rf.predict_proba, num_features=10, labels=(target_class,))\n",
    "    fig = exp.as_pyplot_figure(label=target_class)\n",
    "    fig.patch.set_facecolor('white')\n",
    "    plt.show()\n",
    "\n",
    "\n",
    "sample_idx = 0 \n",
    "for target_class in np.unique(y_classificacao):\n",
    "    print(f\"Explicação para a Classe {target_class}\")\n",
    "    explain_class(sample_idx, target_class)\n"
   ]
  },
  {
   "cell_type": "markdown",
   "metadata": {},
   "source": []
  },
  {
   "cell_type": "markdown",
   "metadata": {},
   "source": [
    "### A coluna natureza_acidentes possui 3 rótulos. Uma  outra sugestão para melhorar o desempenho do modelo seria transformar os rótulos em binário.\n",
    "\n",
    "Então, ao invés de termos:\n",
    "-Sem vítimas\n",
    "-Não Fatal\n",
    "-Fatal\n",
    "\n",
    "Poderíamos simplificar a interpretação do modelo em  apenas 2:\n",
    "-Não Fatal\n",
    "-Fatal"
   ]
  },
  {
   "cell_type": "code",
   "execution_count": null,
   "metadata": {},
   "outputs": [],
   "source": []
  }
 ],
 "metadata": {
  "kernelspec": {
   "display_name": "Python 3",
   "language": "python",
   "name": "python3"
  },
  "language_info": {
   "codemirror_mode": {
    "name": "ipython",
    "version": 3
   },
   "file_extension": ".py",
   "mimetype": "text/x-python",
   "name": "python",
   "nbconvert_exporter": "python",
   "pygments_lexer": "ipython3",
   "version": "3.11.9"
  }
 },
 "nbformat": 4,
 "nbformat_minor": 2
}
